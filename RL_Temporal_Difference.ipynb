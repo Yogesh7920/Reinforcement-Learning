{
  "nbformat": 4,
  "nbformat_minor": 0,
  "metadata": {
    "kernelspec": {
      "display_name": "Python 3",
      "language": "python",
      "name": "python3"
    },
    "language_info": {
      "codemirror_mode": {
        "name": "ipython",
        "version": 2
      },
      "file_extension": ".py",
      "mimetype": "text/x-python",
      "name": "python",
      "nbconvert_exporter": "python",
      "pygments_lexer": "ipython2",
      "version": "2.7.6"
    },
    "colab": {
      "name": "RL_Temporal_Difference.ipynb",
      "provenance": [],
      "collapsed_sections": [],
      "include_colab_link": true
    }
  },
  "cells": [
    {
      "cell_type": "markdown",
      "metadata": {
        "id": "view-in-github",
        "colab_type": "text"
      },
      "source": [
        "<a href=\"https://colab.research.google.com/github/Yogesh7920/Reinforcement-Learning/blob/master/RL_Temporal_Difference.ipynb\" target=\"_parent\"><img src=\"https://colab.research.google.com/assets/colab-badge.svg\" alt=\"Open In Colab\"/></a>"
      ]
    },
    {
      "cell_type": "markdown",
      "metadata": {
        "id": "z7ZqGsVV5vC_"
      },
      "source": [
        "## Imports"
      ]
    },
    {
      "cell_type": "code",
      "metadata": {
        "collapsed": true,
        "id": "Co2iWXNM5rmY"
      },
      "source": [
        "import numpy as np\n",
        "from copy import deepcopy"
      ],
      "execution_count": null,
      "outputs": []
    },
    {
      "cell_type": "markdown",
      "metadata": {
        "id": "FOKuiatc5xJ4"
      },
      "source": [
        "## Reward Matrix"
      ]
    },
    {
      "cell_type": "code",
      "metadata": {
        "pycharm": {
          "name": "#%%\n"
        },
        "id": "ZX1te64r5rmb"
      },
      "source": [
        "grid_size = 5\n",
        "reward = np.array(\n",
        "    [[0 for j in range(grid_size)] for i in range(grid_size)]\n",
        ")\n",
        "\n",
        "reward[0, -1] = 1"
      ],
      "execution_count": null,
      "outputs": []
    },
    {
      "cell_type": "code",
      "metadata": {
        "pycharm": {
          "name": "#%%\n"
        },
        "colab": {
          "base_uri": "https://localhost:8080/"
        },
        "id": "tN5M_Pcv5rmc",
        "outputId": "b40d641d-76df-417b-ee18-5cba09a723b5"
      },
      "source": [
        "reward"
      ],
      "execution_count": null,
      "outputs": [
        {
          "output_type": "execute_result",
          "data": {
            "text/plain": [
              "array([[0, 0, 0, 0, 1],\n",
              "       [0, 0, 0, 0, 0],\n",
              "       [0, 0, 0, 0, 0],\n",
              "       [0, 0, 0, 0, 0],\n",
              "       [0, 0, 0, 0, 0]])"
            ]
          },
          "metadata": {
            "tags": []
          },
          "execution_count": 3
        }
      ]
    },
    {
      "cell_type": "markdown",
      "metadata": {
        "id": "-gQ10Qv9511P"
      },
      "source": [
        "## Policy Matrix"
      ]
    },
    {
      "cell_type": "code",
      "metadata": {
        "pycharm": {
          "name": "#%%\n"
        },
        "id": "0cgE57UT5rmd"
      },
      "source": [
        "policy = [['R' for j in range(grid_size)] for i in range(grid_size)]\n",
        "for r in range(grid_size):\n",
        "    policy[r][-1] = 'U'\n",
        "\n",
        "policy[0][-1] = 'S'"
      ],
      "execution_count": null,
      "outputs": []
    },
    {
      "cell_type": "code",
      "metadata": {
        "pycharm": {
          "name": "#%%\n"
        },
        "colab": {
          "base_uri": "https://localhost:8080/"
        },
        "id": "8otlhU-L5rmd",
        "outputId": "4af795ae-8b7c-4bcc-da90-f291ebe24a33"
      },
      "source": [
        "np.matrix(policy)"
      ],
      "execution_count": null,
      "outputs": [
        {
          "output_type": "execute_result",
          "data": {
            "text/plain": [
              "matrix([['R', 'R', 'R', 'R', 'S'],\n",
              "        ['R', 'R', 'R', 'R', 'U'],\n",
              "        ['R', 'R', 'R', 'R', 'U'],\n",
              "        ['R', 'R', 'R', 'R', 'U'],\n",
              "        ['R', 'R', 'R', 'R', 'U']], dtype='<U1')"
            ]
          },
          "metadata": {
            "tags": []
          },
          "execution_count": 5
        }
      ]
    },
    {
      "cell_type": "code",
      "metadata": {
        "pycharm": {
          "name": "#%%\n"
        },
        "id": "R2go82kH5rmd"
      },
      "source": [
        "def take_action(x, y, action):\n",
        "    if action == 'R':\n",
        "        y += 1\n",
        "    elif action == 'U':\n",
        "        x -= 1\n",
        "\n",
        "    return x, y"
      ],
      "execution_count": null,
      "outputs": []
    },
    {
      "cell_type": "markdown",
      "metadata": {
        "id": "H7YOifRD5-RR"
      },
      "source": [
        "## Config"
      ]
    },
    {
      "cell_type": "code",
      "metadata": {
        "pycharm": {
          "name": "#%%\n"
        },
        "id": "9dQtoHlB5rme"
      },
      "source": [
        "cur_x, cur_y = grid_size-1, 0 # bottom left\n",
        "alpha = 0.9\n",
        "gamma = 0.9\n",
        "e = 1e-5"
      ],
      "execution_count": null,
      "outputs": []
    },
    {
      "cell_type": "markdown",
      "metadata": {
        "id": "Lyy-9nKB6DZo"
      },
      "source": [
        "# Temporal Difference"
      ]
    },
    {
      "cell_type": "code",
      "metadata": {
        "pycharm": {
          "name": "#%%\n"
        },
        "id": "KSirA85h5rme"
      },
      "source": [
        "def temporal_diff(i, j):\n",
        "    next_i, next_j = take_action(i, j, policy[i][j])\n",
        "    return V[i][j] + alpha * (reward[i][j] + gamma*V[next_i][next_j] - V[i][j])"
      ],
      "execution_count": null,
      "outputs": []
    },
    {
      "cell_type": "code",
      "metadata": {
        "pycharm": {
          "name": "#%%\n"
        },
        "id": "93-t_8Tp5rme"
      },
      "source": [
        "V = np.zeros((grid_size, grid_size))\n",
        "change = float('inf')\n",
        "\n",
        "while True:\n",
        "    new_V = deepcopy(V)\n",
        "    for i in range(grid_size):\n",
        "        for j in range(grid_size):\n",
        "            new_V[i][j] = temporal_diff(i, j)\n",
        "    \n",
        "    change = np.max(np.abs(V-new_V))\n",
        "    if change < e:\n",
        "      break\n",
        "    V = new_V"
      ],
      "execution_count": null,
      "outputs": []
    },
    {
      "cell_type": "code",
      "metadata": {
        "pycharm": {
          "name": "#%%\n"
        },
        "colab": {
          "base_uri": "https://localhost:8080/"
        },
        "id": "qKqNieKD5rmf",
        "outputId": "2997cce2-4395-4990-8c7b-20b3cdca1c74"
      },
      "source": [
        "np.round(V, 5)"
      ],
      "execution_count": null,
      "outputs": [
        {
          "output_type": "execute_result",
          "data": {
            "text/plain": [
              "array([[6.56089, 7.28989, 8.09989, 8.99989, 9.99989],\n",
              "       [5.90479, 6.56089, 7.28989, 8.09989, 8.99989],\n",
              "       [5.3143 , 5.90479, 6.56089, 7.28989, 8.09989],\n",
              "       [4.78286, 5.3143 , 5.90479, 6.56089, 7.28989],\n",
              "       [4.30456, 4.78286, 5.3143 , 5.90479, 6.56089]])"
            ]
          },
          "metadata": {
            "tags": []
          },
          "execution_count": 10
        }
      ]
    },
    {
      "cell_type": "markdown",
      "metadata": {
        "id": "mVqoZzYQ6HSH"
      },
      "source": [
        "# Temporal Differnece with Function Approximation"
      ]
    },
    {
      "cell_type": "code",
      "metadata": {
        "pycharm": {
          "name": "#%%\n"
        },
        "id": "zztv1CLp5rmf"
      },
      "source": [
        "def features(x, y):\n",
        "    arr = np.array([\n",
        "        1, x, y, abs(x-y), x*y, x**2, y**2,\n",
        "                           x**2+y**2, (x+y)**2\n",
        "    ]).reshape(9, 1)\n",
        "    return arr\n",
        "\n",
        "def features_norm(x, y):\n",
        "    feats = features(x, y)\n",
        "    return feats / np.linalg.norm(feats)"
      ],
      "execution_count": null,
      "outputs": []
    },
    {
      "cell_type": "code",
      "metadata": {
        "id": "Nq2w9RDh7H4a"
      },
      "source": [
        "def temporal_diff_fun(i, j, weights):\n",
        "    next_i, next_j = take_action(i, j, policy[i][j])\n",
        "    feats = features_norm(i, j)\n",
        "    feats_T = feats.flatten()\n",
        "    next_feats = features_norm(next_i, next_j)\n",
        "    next_feats_T = next_feats.flatten()\n",
        "    td = gamma * (np.dot(next_feats_T, weights)) - (np.dot(feats_T, weights))\n",
        "    return reward[i, j] + td\n"
      ],
      "execution_count": null,
      "outputs": []
    },
    {
      "cell_type": "code",
      "metadata": {
        "id": "X6WQxRHqNFtL"
      },
      "source": [
        "alpha = 0.9\n",
        "gamma = 0.95\n",
        "e = 1e-5"
      ],
      "execution_count": null,
      "outputs": []
    },
    {
      "cell_type": "code",
      "metadata": {
        "id": "a7QuANtn7xo8"
      },
      "source": [
        "weights = np.random.randn(9)\n",
        "change = float('inf')\n",
        "while True:\n",
        "\n",
        "    old_weights = deepcopy(weights)\n",
        "\n",
        "    for i in range(grid_size):\n",
        "        for j in range(grid_size):\n",
        "            delta_weights = temporal_diff_fun(i, j, weights)\n",
        "            feats = features_norm(i, j).flatten()\n",
        "            weights += alpha * np.dot(delta_weights, feats)\n",
        "\n",
        "    change = np.max(np.abs(weights-old_weights))\n",
        "    if change < e:\n",
        "        break\n"
      ],
      "execution_count": null,
      "outputs": []
    },
    {
      "cell_type": "code",
      "metadata": {
        "colab": {
          "base_uri": "https://localhost:8080/"
        },
        "id": "dfZlxG8WM4SO",
        "outputId": "9ce8323f-c9d5-4165-d7b7-db639b4ee8e5"
      },
      "source": [
        "weights"
      ],
      "execution_count": null,
      "outputs": [
        {
          "output_type": "execute_result",
          "data": {
            "text/plain": [
              "array([ 7.8831539 ,  0.34978433, -4.53027617, -0.1849415 , -0.3811357 ,\n",
              "        0.21082104,  6.83780154,  5.50629884,  4.75281316])"
            ]
          },
          "metadata": {
            "tags": []
          },
          "execution_count": 15
        }
      ]
    },
    {
      "cell_type": "code",
      "metadata": {
        "id": "26RfjVlAjcRj"
      },
      "source": [
        "V = []\n",
        "for i in range(grid_size):\n",
        "    temp = []\n",
        "    for j in range(grid_size):\n",
        "        v = np.dot(weights, features_norm(i, j))\n",
        "        temp.append(v.flatten()[0])\n",
        "    V.append(temp)\n",
        "\n",
        "V = np.array(V)"
      ],
      "execution_count": null,
      "outputs": []
    },
    {
      "cell_type": "code",
      "metadata": {
        "colab": {
          "base_uri": "https://localhost:8080/"
        },
        "id": "wbFShXolM7NU",
        "outputId": "53b43c15-031d-402e-bd85-21b250773962"
      },
      "source": [
        "np.round(V, 5)"
      ],
      "execution_count": null,
      "outputs": [
        {
          "output_type": "execute_result",
          "data": {
            "text/plain": [
              "array([[7.88315, 8.27309, 8.85322, 9.11936, 9.27756],\n",
              "       [7.55991, 7.92192, 8.30126, 8.65294, 8.89935],\n",
              "       [6.63492, 7.00538, 7.53419, 7.9925 , 8.34583],\n",
              "       [6.33909, 6.6405 , 7.0719 , 7.50458, 7.87082],\n",
              "       [6.22083, 6.46656, 6.80763, 7.17258, 7.51446]])"
            ]
          },
          "metadata": {
            "tags": []
          },
          "execution_count": 17
        }
      ]
    },
    {
      "cell_type": "code",
      "metadata": {
        "id": "SrF30eKuNLJo"
      },
      "source": [
        ""
      ],
      "execution_count": null,
      "outputs": []
    }
  ]
}