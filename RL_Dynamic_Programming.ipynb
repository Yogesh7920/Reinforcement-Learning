{
  "nbformat": 4,
  "nbformat_minor": 0,
  "metadata": {
    "kernelspec": {
      "name": "python3",
      "display_name": "Python 3"
    },
    "colab": {
      "name": "RL_Dynamic_Programming.ipynb",
      "provenance": [],
      "collapsed_sections": [],
      "include_colab_link": true
    },
    "language_info": {
      "name": "python"
    }
  },
  "cells": [
    {
      "cell_type": "markdown",
      "metadata": {
        "id": "view-in-github",
        "colab_type": "text"
      },
      "source": [
        "<a href=\"https://colab.research.google.com/github/Yogesh7920/Reinforcement-Learning/blob/master/RL_Dynamic_Programming.ipynb\" target=\"_parent\"><img src=\"https://colab.research.google.com/assets/colab-badge.svg\" alt=\"Open In Colab\"/></a>"
      ]
    },
    {
      "cell_type": "markdown",
      "metadata": {
        "collapsed": false,
        "pycharm": {
          "name": "#%% md\n"
        },
        "id": "3DYnmUzsqgms"
      },
      "source": [
        "# RL Assignment - 1\n",
        "## _Two state toy problem_"
      ]
    },
    {
      "cell_type": "code",
      "metadata": {
        "collapsed": true,
        "id": "W1e72opQqgmy"
      },
      "source": [
        "import numpy as np\n",
        "import pandas as pd\n",
        "from copy import deepcopy"
      ],
      "execution_count": null,
      "outputs": []
    },
    {
      "cell_type": "markdown",
      "metadata": {
        "collapsed": false,
        "pycharm": {
          "name": "#%% md\n"
        },
        "id": "zpO6v6lkqgmz"
      },
      "source": [
        "#### 1. How many policies are possible ?. Enumerate the policies"
      ]
    },
    {
      "cell_type": "markdown",
      "metadata": {
        "collapsed": false,
        "pycharm": {
          "name": "#%% md\n"
        },
        "id": "77tbroCoqgmz"
      },
      "source": [
        "*Answer*\n",
        "There are 4 possible policies:\n",
        "- S1 - Left and S2 - Left\n",
        "- S1 - Left and S2 - Right\n",
        "- S1 - Right and S2 - Right\n",
        "- S1 - Right and S2 - Right\n"
      ]
    },
    {
      "cell_type": "code",
      "metadata": {
        "pycharm": {
          "name": "#%%\n"
        },
        "id": "lfcjXV04qgm0"
      },
      "source": [
        "P = [\n",
        "    np.array([\n",
        "        [0.9, 0.1],\n",
        "        [0.9, 0.1]\n",
        "    ]), # LL\n",
        "    np.array([\n",
        "        [0.9, 0.1],\n",
        "        [0.1, 0.9]\n",
        "    ]), # LR\n",
        "    np.array([\n",
        "        [0.1, 0.9],\n",
        "        [0.9, 0.1]\n",
        "    ]), # RL\n",
        "    np.array([\n",
        "        [0.1, 0.9],\n",
        "        [0.1, 0.9]\n",
        "    ]) # RR\n",
        "]\n",
        "\n",
        "P = np.array(P)"
      ],
      "execution_count": null,
      "outputs": []
    },
    {
      "cell_type": "markdown",
      "metadata": {
        "collapsed": false,
        "pycharm": {
          "name": "#%% md\n"
        },
        "id": "50Kp7iWaqgm0"
      },
      "source": [
        "### 2. For each of the polices calculate $V^\\pi$"
      ]
    },
    {
      "cell_type": "code",
      "metadata": {
        "pycharm": {
          "name": "#%%\n"
        },
        "id": "zYLVtn7tqgm0"
      },
      "source": [
        "r = np.array([[1], [5]]) # the reward matrix\n",
        "gamma = 0.9 # the future discount factor\n"
      ],
      "execution_count": null,
      "outputs": []
    },
    {
      "cell_type": "code",
      "metadata": {
        "pycharm": {
          "name": "#%%\n"
        },
        "id": "NMkbTOyzqgm0"
      },
      "source": [
        "I = np.identity(2)\n",
        "V = []\n",
        "for p in P:\n",
        "    t = I-gamma*p\n",
        "    v = np.linalg.solve(t, r)\n",
        "    V.append(v)\n",
        "\n",
        "V = np.array(V)\n",
        "\n"
      ],
      "execution_count": null,
      "outputs": []
    },
    {
      "cell_type": "code",
      "metadata": {
        "pycharm": {
          "name": "#%%\n"
        },
        "colab": {
          "base_uri": "https://localhost:8080/",
          "height": 172
        },
        "id": "5A7okRKhqgm1",
        "outputId": "b740c73d-56fd-4af1-ae46-bdf78da752f5"
      },
      "source": [
        "df = pd.DataFrame(V.reshape(4, 2))\n",
        "df['Policy'] = ['Left-Left', 'Left-Right', 'Right-Left', 'Right-Right']\n",
        "df = df.rename(columns={0:'State 0', 1: 'State 1'})\n",
        "df = df[['Policy', 'State 0', 'State 1']]\n",
        "df"
      ],
      "execution_count": null,
      "outputs": [
        {
          "output_type": "execute_result",
          "data": {
            "text/html": [
              "<div>\n",
              "<style scoped>\n",
              "    .dataframe tbody tr th:only-of-type {\n",
              "        vertical-align: middle;\n",
              "    }\n",
              "\n",
              "    .dataframe tbody tr th {\n",
              "        vertical-align: top;\n",
              "    }\n",
              "\n",
              "    .dataframe thead th {\n",
              "        text-align: right;\n",
              "    }\n",
              "</style>\n",
              "<table border=\"1\" class=\"dataframe\">\n",
              "  <thead>\n",
              "    <tr style=\"text-align: right;\">\n",
              "      <th></th>\n",
              "      <th>Policy</th>\n",
              "      <th>State 0</th>\n",
              "      <th>State 1</th>\n",
              "    </tr>\n",
              "  </thead>\n",
              "  <tbody>\n",
              "    <tr>\n",
              "      <th>0</th>\n",
              "      <td>Left-Left</td>\n",
              "      <td>13.600000</td>\n",
              "      <td>17.600000</td>\n",
              "    </tr>\n",
              "    <tr>\n",
              "      <th>1</th>\n",
              "      <td>Left-Right</td>\n",
              "      <td>22.857143</td>\n",
              "      <td>37.142857</td>\n",
              "    </tr>\n",
              "    <tr>\n",
              "      <th>2</th>\n",
              "      <td>Right-Left</td>\n",
              "      <td>28.837209</td>\n",
              "      <td>31.162791</td>\n",
              "    </tr>\n",
              "    <tr>\n",
              "      <th>3</th>\n",
              "      <td>Right-Right</td>\n",
              "      <td>42.400000</td>\n",
              "      <td>46.400000</td>\n",
              "    </tr>\n",
              "  </tbody>\n",
              "</table>\n",
              "</div>"
            ],
            "text/plain": [
              "        Policy    State 0    State 1\n",
              "0    Left-Left  13.600000  17.600000\n",
              "1   Left-Right  22.857143  37.142857\n",
              "2   Right-Left  28.837209  31.162791\n",
              "3  Right-Right  42.400000  46.400000"
            ]
          },
          "metadata": {
            "tags": []
          },
          "execution_count": 5
        }
      ]
    },
    {
      "cell_type": "markdown",
      "metadata": {
        "collapsed": false,
        "pycharm": {
          "name": "#%% md\n"
        },
        "id": "rVEqoJB1qgm2"
      },
      "source": [
        "For the above table we can conclude that right-right is the best policy."
      ]
    },
    {
      "cell_type": "markdown",
      "metadata": {
        "collapsed": false,
        "pycharm": {
          "name": "#%% md\n"
        },
        "id": "cB_2joFgqgm3"
      },
      "source": [
        "#### 3. Use value iteration to calculate $V^*$\n",
        "#### 4. Use value iteration to improve the policy at each step and eventually find $V^*$\n"
      ]
    },
    {
      "cell_type": "code",
      "metadata": {
        "pycharm": {
          "name": "#%%\n"
        },
        "id": "xqDDEJmMqgm3"
      },
      "source": [
        "probs = np.array([[0.9, 0.1],[0.1, 0.9]]) # L & R\n",
        "\n",
        "def bellman(V):\n",
        "    \"\"\"\n",
        "    This function does the bellman operation on V and also returns the greedy policy corressponding to it.  \n",
        "    \"\"\"\n",
        "    best_value = deepcopy(V)\n",
        "    greedy_policy = []\n",
        "    for state in [0, 1]:\n",
        "        temp = np.matmul(probs, V)\n",
        "        gain = r[state, 0] + gamma * temp\n",
        "        policy = np.argmax(gain)\n",
        "        greedy_policy.append(policy)\n",
        "        best_value[state] = gain[policy]\n",
        "\n",
        "    return greedy_policy, best_value\n",
        "\n"
      ],
      "execution_count": null,
      "outputs": []
    },
    {
      "cell_type": "code",
      "metadata": {
        "pycharm": {
          "name": "#%%\n"
        },
        "id": "JmhZATHmqgm3"
      },
      "source": [
        "change = float('inf')\n",
        "e = 1e-3\n",
        "V = np.zeros((2, 1))\n",
        "P = [0, 0]\n",
        "while change > e:\n",
        "    P, new_V = bellman(V)\n",
        "    change = np.max(np.abs(new_V-V))\n",
        "    V = new_V"
      ],
      "execution_count": null,
      "outputs": []
    },
    {
      "cell_type": "code",
      "metadata": {
        "pycharm": {
          "name": "#%%\n"
        },
        "colab": {
          "base_uri": "https://localhost:8080/"
        },
        "id": "7Y9c9daOqgm4",
        "outputId": "1fbee714-17d0-43f9-bb9c-0ce6294ac957"
      },
      "source": [
        "P = list(map(lambda x: 'Left' if x==0 else 'Right', P))\n",
        "print('P* is', P)\n",
        "print('V* is', V.flatten())\n"
      ],
      "execution_count": null,
      "outputs": [
        {
          "output_type": "stream",
          "text": [
            "P* is ['Right', 'Right']\n",
            "V* is [42.39185964 46.39185964]\n"
          ],
          "name": "stdout"
        }
      ]
    },
    {
      "cell_type": "markdown",
      "metadata": {
        "collapsed": false,
        "pycharm": {
          "name": "#%% md\n"
        },
        "id": "9TFZvEziqgm4"
      },
      "source": [
        "As we can see the V and P are the same as the Q2."
      ]
    }
  ]
}